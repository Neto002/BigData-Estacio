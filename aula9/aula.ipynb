{
 "cells": [
  {
   "cell_type": "code",
   "execution_count": 31,
   "metadata": {},
   "outputs": [
    {
     "name": "stdout",
     "output_type": "stream",
     "text": [
      "<class 'pandas.core.frame.DataFrame'>\n",
      "RangeIndex: 6769 entries, 0 to 6768\n",
      "Data columns (total 22 columns):\n",
      " #   Column                          Non-Null Count  Dtype \n",
      "---  ------                          --------------  ----- \n",
      " 0   codigo_ocorrencia               6769 non-null   int64 \n",
      " 1   codigo_ocorrencia1              6769 non-null   int64 \n",
      " 2   codigo_ocorrencia2              6769 non-null   int64 \n",
      " 3   codigo_ocorrencia3              6769 non-null   int64 \n",
      " 4   codigo_ocorrencia4              6769 non-null   int64 \n",
      " 5   ocorrencia_classificacao        6769 non-null   object\n",
      " 6   ocorrencia_latitude             5135 non-null   object\n",
      " 7   ocorrencia_longitude            5135 non-null   object\n",
      " 8   ocorrencia_cidade               6769 non-null   object\n",
      " 9   ocorrencia_uf                   6769 non-null   object\n",
      " 10  ocorrencia_pais                 6769 non-null   object\n",
      " 11  ocorrencia_aerodromo            6769 non-null   object\n",
      " 12  ocorrencia_dia                  6769 non-null   object\n",
      " 13  ocorrencia_hora                 6767 non-null   object\n",
      " 14  investigacao_aeronave_liberada  6531 non-null   object\n",
      " 15  investigacao_status             6428 non-null   object\n",
      " 16  divulgacao_relatorio_numero     5987 non-null   object\n",
      " 17  divulgacao_relatorio_publicado  6769 non-null   object\n",
      " 18  divulgacao_dia_publicacao       1781 non-null   object\n",
      " 19  total_recomendacoes             6769 non-null   int64 \n",
      " 20  total_aeronaves_envolvidas      6769 non-null   int64 \n",
      " 21  ocorrencia_saida_pista          6769 non-null   object\n",
      "dtypes: int64(7), object(15)\n",
      "memory usage: 1.1+ MB\n"
     ]
    },
    {
     "data": {
      "text/plain": [
       "INCIDENTE          3795\n",
       "ACIDENTE           2090\n",
       "INCIDENTE GRAVE     884\n",
       "Name: ocorrencia_classificacao, dtype: int64"
      ]
     },
     "execution_count": 31,
     "metadata": {},
     "output_type": "execute_result"
    }
   ],
   "source": [
    "import pandas as pd\n",
    "\n",
    "data = pd.read_csv('https://raw.githubusercontent.com/Simone-Ingrid/datasetaero/main/ocorrencia.csv', encoding='latin-1', sep=';')\n",
    "\n",
    "data.info()\n",
    "\n",
    "data['ocorrencia_cidade'].value_counts()\n",
    "data['ocorrencia_classificacao'].value_counts()"
   ]
  },
  {
   "cell_type": "code",
   "execution_count": null,
   "metadata": {},
   "outputs": [],
   "source": [
    "#data = [['Cloudmagic', 12], ['Smartr', 17], ['Sunrise Calendar', 11], ['Free-time', 16], ['Pocket', 16], ['Wunderlist', 12], ['Files Google', 18]]\n",
    "\n",
    "data = {'App': ['Cloudmagic', 'Smartr', 'Sunrise Calendar', 'Free-time', 'Pocket', 'Wunderlist', 'Files Google'], 'ms': [12, 17, 11, 16, 16, 12, 18]}\n",
    "\n",
    "df = pd.DataFrame(data, columns=['App', 'ms'])\n",
    "\n",
    "print(df['ms'].mean())\n",
    "print(df['ms'].median())\n",
    "print(df['ms'].mode())\n",
    "print(df['ms'].describe())\n",
    "\n",
    "result = df.loc[df['ms'] == 16]\n",
    "print(result)\n",
    "result = df.loc[df['ms'] >= 16]\n",
    "result.plot.bar(x='App')"
   ]
  },
  {
   "cell_type": "code",
   "execution_count": 14,
   "metadata": {},
   "outputs": [
    {
     "data": {
      "text/plain": [
       "<Response [200]>"
      ]
     },
     "execution_count": 14,
     "metadata": {},
     "output_type": "execute_result"
    }
   ],
   "source": [
    "import pandas as pd\n",
    "import requests\n",
    "\n",
    "url = 'https://www.worldcoinindex.com/'\n",
    "crypto_url = requests.get(url)\n",
    "crypto_url"
   ]
  },
  {
   "cell_type": "code",
   "execution_count": 15,
   "metadata": {},
   "outputs": [
    {
     "data": {
      "text/plain": [
       "[       # Unnamed: 1            Name Ticker  Last price        %     24 high  \\\n",
       " 0      1        NaN         Bitcoin    BTC    $ 20,922   +1.57%    $ 21,053   \n",
       " 1      2        NaN        Ethereum    ETH  $ 1,639.70   +5.46%  $ 1,650.17   \n",
       " 2      3        NaN        Dogecoin   DOGE  $ 0.114917  +37.01%  $ 0.115061   \n",
       " 3      4        NaN      Binanceusd   BUSD      $ 1.00   +0.07%      $ 1.00   \n",
       " 4      5        NaN          Ripple    XRP  $ 0.472657   -0.35%  $ 0.483147   \n",
       " ..   ...        ...             ...    ...         ...      ...         ...   \n",
       " 97    96        NaN        Illuvium    ILV     $ 71.16   +5.74%     $ 72.76   \n",
       " 98    97        NaN            Reef   REEF  $ 0.005381   -0.88%  $ 0.005496   \n",
       " 99    98        NaN       The Graph    GRT  $ 0.083894   +2.04%  $ 0.085641   \n",
       " 100   99        NaN  Lido DAO Token    LDO      $ 1.68   +0.63%      $ 1.76   \n",
       " 101  100        NaN           Zcash    ZEC     $ 54.26   +0.92%     $ 54.70   \n",
       " \n",
       "          24 low Price Charts 7d  24 volume  # Coins Market cap  \n",
       " 0      $ 20,565             NaN    $ 9.64B   19.19M  $ 401.54B  \n",
       " 1    $ 1,548.83             NaN    $ 6.80B  122.37M  $ 200.65B  \n",
       " 2    $ 0.082995             NaN    $ 3.56B  129.40B   $ 14.87B  \n",
       " 3    $ 0.998865             NaN  $ 797.46M    1.68B    $ 1.68B  \n",
       " 4    $ 0.468060             NaN  $ 719.28M   50.08B   $ 23.67B  \n",
       " ..          ...             ...        ...      ...        ...  \n",
       " 97      $ 66.63             NaN   $ 15.80M      NaN        NaN  \n",
       " 98   $ 0.005336             NaN   $ 15.73M   14.80B   $ 79.67M  \n",
       " 99   $ 0.082183             NaN   $ 15.48M    1.22B  $ 102.76M  \n",
       " 100      $ 1.66             NaN   $ 15.44M      NaN        NaN  \n",
       " 101     $ 53.56             NaN   $ 15.31M   15.58M  $ 845.63M  \n",
       " \n",
       " [102 rows x 12 columns]]"
      ]
     },
     "execution_count": 15,
     "metadata": {},
     "output_type": "execute_result"
    }
   ],
   "source": [
    "crypto_data = pd.read_html(crypto_url.text)\n",
    "\n",
    "crypto_data"
   ]
  },
  {
   "cell_type": "code",
   "execution_count": 16,
   "metadata": {},
   "outputs": [],
   "source": [
    "len(crypto_data), type(crypto_data)\n",
    "\n",
    "crypto_data = crypto_data[0]"
   ]
  },
  {
   "cell_type": "code",
   "execution_count": 50,
   "metadata": {},
   "outputs": [
    {
     "data": {
      "text/html": [
       "<div>\n",
       "<style scoped>\n",
       "    .dataframe tbody tr th:only-of-type {\n",
       "        vertical-align: middle;\n",
       "    }\n",
       "\n",
       "    .dataframe tbody tr th {\n",
       "        vertical-align: top;\n",
       "    }\n",
       "\n",
       "    .dataframe thead th {\n",
       "        text-align: right;\n",
       "    }\n",
       "</style>\n",
       "<table border=\"1\" class=\"dataframe\">\n",
       "  <thead>\n",
       "    <tr style=\"text-align: right;\">\n",
       "      <th></th>\n",
       "      <th>Name</th>\n",
       "      <th>Ticker</th>\n",
       "      <th>Last price</th>\n",
       "      <th>%</th>\n",
       "      <th>24 high</th>\n",
       "      <th>24 low</th>\n",
       "      <th>Price Charts 7d</th>\n",
       "      <th>24 volume</th>\n",
       "      <th># Coins</th>\n",
       "      <th>Market cap</th>\n",
       "    </tr>\n",
       "  </thead>\n",
       "  <tbody>\n",
       "    <tr>\n",
       "      <th>0</th>\n",
       "      <td>Bitcoin</td>\n",
       "      <td>BTC</td>\n",
       "      <td>$ 20,922</td>\n",
       "      <td>+1.57%</td>\n",
       "      <td>$ 21,053</td>\n",
       "      <td>$ 20,565</td>\n",
       "      <td>NaN</td>\n",
       "      <td>$ 9.64B</td>\n",
       "      <td>19.19M</td>\n",
       "      <td>$ 401.54B</td>\n",
       "    </tr>\n",
       "    <tr>\n",
       "      <th>1</th>\n",
       "      <td>Ethereum</td>\n",
       "      <td>ETH</td>\n",
       "      <td>$ 1,639.70</td>\n",
       "      <td>+5.46%</td>\n",
       "      <td>$ 1,650.17</td>\n",
       "      <td>$ 1,548.83</td>\n",
       "      <td>NaN</td>\n",
       "      <td>$ 6.80B</td>\n",
       "      <td>122.37M</td>\n",
       "      <td>$ 200.65B</td>\n",
       "    </tr>\n",
       "    <tr>\n",
       "      <th>2</th>\n",
       "      <td>Dogecoin</td>\n",
       "      <td>DOGE</td>\n",
       "      <td>$ 0.114917</td>\n",
       "      <td>+37.01%</td>\n",
       "      <td>$ 0.115061</td>\n",
       "      <td>$ 0.082995</td>\n",
       "      <td>NaN</td>\n",
       "      <td>$ 3.56B</td>\n",
       "      <td>129.40B</td>\n",
       "      <td>$ 14.87B</td>\n",
       "    </tr>\n",
       "    <tr>\n",
       "      <th>3</th>\n",
       "      <td>Binanceusd</td>\n",
       "      <td>BUSD</td>\n",
       "      <td>$ 1.00</td>\n",
       "      <td>+0.07%</td>\n",
       "      <td>$ 1.00</td>\n",
       "      <td>$ 0.998865</td>\n",
       "      <td>NaN</td>\n",
       "      <td>$ 797.46M</td>\n",
       "      <td>1.68B</td>\n",
       "      <td>$ 1.68B</td>\n",
       "    </tr>\n",
       "    <tr>\n",
       "      <th>4</th>\n",
       "      <td>Ripple</td>\n",
       "      <td>XRP</td>\n",
       "      <td>$ 0.472657</td>\n",
       "      <td>-0.35%</td>\n",
       "      <td>$ 0.483147</td>\n",
       "      <td>$ 0.468060</td>\n",
       "      <td>NaN</td>\n",
       "      <td>$ 719.28M</td>\n",
       "      <td>50.08B</td>\n",
       "      <td>$ 23.67B</td>\n",
       "    </tr>\n",
       "  </tbody>\n",
       "</table>\n",
       "</div>"
      ],
      "text/plain": [
       "         Name Ticker  Last price        %     24 high      24 low  \\\n",
       "0     Bitcoin    BTC    $ 20,922   +1.57%    $ 21,053    $ 20,565   \n",
       "1    Ethereum    ETH  $ 1,639.70   +5.46%  $ 1,650.17  $ 1,548.83   \n",
       "2    Dogecoin   DOGE  $ 0.114917  +37.01%  $ 0.115061  $ 0.082995   \n",
       "3  Binanceusd   BUSD      $ 1.00   +0.07%      $ 1.00  $ 0.998865   \n",
       "4      Ripple    XRP  $ 0.472657   -0.35%  $ 0.483147  $ 0.468060   \n",
       "\n",
       "  Price Charts 7d  24 volume  # Coins Market cap  \n",
       "0             NaN    $ 9.64B   19.19M  $ 401.54B  \n",
       "1             NaN    $ 6.80B  122.37M  $ 200.65B  \n",
       "2             NaN    $ 3.56B  129.40B   $ 14.87B  \n",
       "3             NaN  $ 797.46M    1.68B    $ 1.68B  \n",
       "4             NaN  $ 719.28M   50.08B   $ 23.67B  "
      ]
     },
     "execution_count": 50,
     "metadata": {},
     "output_type": "execute_result"
    }
   ],
   "source": [
    "crypto_final = crypto_data.iloc[:,2:]\n",
    "crypto_final.head()"
   ]
  },
  {
   "cell_type": "code",
   "execution_count": 25,
   "metadata": {},
   "outputs": [
    {
     "name": "stdout",
     "output_type": "stream",
     "text": [
      "<class 'pandas.core.frame.DataFrame'>\n",
      "RangeIndex: 102 entries, 0 to 101\n",
      "Data columns (total 10 columns):\n",
      " #   Column           Non-Null Count  Dtype \n",
      "---  ------           --------------  ----- \n",
      " 0   Name             102 non-null    object\n",
      " 1   Ticker           102 non-null    object\n",
      " 2   Last price       102 non-null    object\n",
      " 3   %                102 non-null    object\n",
      " 4   24 high          102 non-null    object\n",
      " 5   24 low           102 non-null    object\n",
      " 6   Price Charts 7d  2 non-null      object\n",
      " 7   24 volume        102 non-null    object\n",
      " 8   # Coins          80 non-null     object\n",
      " 9   Market cap       80 non-null     object\n",
      "dtypes: object(10)\n",
      "memory usage: 8.1+ KB\n"
     ]
    }
   ],
   "source": [
    "crypto_final.info()"
   ]
  },
  {
   "cell_type": "code",
   "execution_count": 27,
   "metadata": {},
   "outputs": [],
   "source": [
    "crypto_final.columns = crypto_final.columns.str.replace('Last price', 'last_price')\n",
    "crypto_final.columns = crypto_final.columns.str.replace('24 high', 'high')\n",
    "crypto_final.columns = crypto_final.columns.str.replace('24 low', 'low')\n",
    "crypto_final.columns = crypto_final.columns.str.replace('Price Charts 7d', 'price_chart')"
   ]
  },
  {
   "cell_type": "code",
   "execution_count": 28,
   "metadata": {},
   "outputs": [
    {
     "data": {
      "text/html": [
       "<div>\n",
       "<style scoped>\n",
       "    .dataframe tbody tr th:only-of-type {\n",
       "        vertical-align: middle;\n",
       "    }\n",
       "\n",
       "    .dataframe tbody tr th {\n",
       "        vertical-align: top;\n",
       "    }\n",
       "\n",
       "    .dataframe thead th {\n",
       "        text-align: right;\n",
       "    }\n",
       "</style>\n",
       "<table border=\"1\" class=\"dataframe\">\n",
       "  <thead>\n",
       "    <tr style=\"text-align: right;\">\n",
       "      <th></th>\n",
       "      <th>Name</th>\n",
       "      <th>Ticker</th>\n",
       "      <th>last_price</th>\n",
       "      <th>%</th>\n",
       "      <th>high</th>\n",
       "      <th>low</th>\n",
       "      <th>price_chart</th>\n",
       "      <th>24 volume</th>\n",
       "      <th># Coins</th>\n",
       "      <th>Market cap</th>\n",
       "    </tr>\n",
       "  </thead>\n",
       "  <tbody>\n",
       "    <tr>\n",
       "      <th>0</th>\n",
       "      <td>Bitcoin</td>\n",
       "      <td>BTC</td>\n",
       "      <td>$ 20,777</td>\n",
       "      <td>+3.32%</td>\n",
       "      <td>$ 21,004</td>\n",
       "      <td>$ 20,060</td>\n",
       "      <td>NaN</td>\n",
       "      <td>$ 14.79B</td>\n",
       "      <td>19.19M</td>\n",
       "      <td>$ 398.71B</td>\n",
       "    </tr>\n",
       "    <tr>\n",
       "      <th>1</th>\n",
       "      <td>Ethereum</td>\n",
       "      <td>ETH</td>\n",
       "      <td>$ 1,566.39</td>\n",
       "      <td>+7.16%</td>\n",
       "      <td>$ 1,591.45</td>\n",
       "      <td>$ 1,458.12</td>\n",
       "      <td>NaN</td>\n",
       "      <td>$ 12.75B</td>\n",
       "      <td>122.37M</td>\n",
       "      <td>$ 191.68B</td>\n",
       "    </tr>\n",
       "    <tr>\n",
       "      <th>2</th>\n",
       "      <td>Binanceusd</td>\n",
       "      <td>BUSD</td>\n",
       "      <td>$ 0.999820</td>\n",
       "      <td>0.00%</td>\n",
       "      <td>$ 1.00</td>\n",
       "      <td>$ 0.998433</td>\n",
       "      <td>NaN</td>\n",
       "      <td>$ 1.02B</td>\n",
       "      <td>1.68B</td>\n",
       "      <td>$ 1.68B</td>\n",
       "    </tr>\n",
       "    <tr>\n",
       "      <th>3</th>\n",
       "      <td>Dogecoin</td>\n",
       "      <td>DOGE</td>\n",
       "      <td>$ 0.072599</td>\n",
       "      <td>+15.19%</td>\n",
       "      <td>$ 0.073635</td>\n",
       "      <td>$ 0.062633</td>\n",
       "      <td>NaN</td>\n",
       "      <td>$ 874.00M</td>\n",
       "      <td>129.40B</td>\n",
       "      <td>$ 9.39B</td>\n",
       "    </tr>\n",
       "    <tr>\n",
       "      <th>4</th>\n",
       "      <td>Ripple</td>\n",
       "      <td>XRP</td>\n",
       "      <td>$ 0.468940</td>\n",
       "      <td>+1.75%</td>\n",
       "      <td>$ 0.470741</td>\n",
       "      <td>$ 0.456566</td>\n",
       "      <td>NaN</td>\n",
       "      <td>$ 851.09M</td>\n",
       "      <td>50.08B</td>\n",
       "      <td>$ 23.48B</td>\n",
       "    </tr>\n",
       "  </tbody>\n",
       "</table>\n",
       "</div>"
      ],
      "text/plain": [
       "         Name Ticker  last_price        %        high         low price_chart  \\\n",
       "0     Bitcoin    BTC    $ 20,777   +3.32%    $ 21,004    $ 20,060         NaN   \n",
       "1    Ethereum    ETH  $ 1,566.39   +7.16%  $ 1,591.45  $ 1,458.12         NaN   \n",
       "2  Binanceusd   BUSD  $ 0.999820    0.00%      $ 1.00  $ 0.998433         NaN   \n",
       "3    Dogecoin   DOGE  $ 0.072599  +15.19%  $ 0.073635  $ 0.062633         NaN   \n",
       "4      Ripple    XRP  $ 0.468940   +1.75%  $ 0.470741  $ 0.456566         NaN   \n",
       "\n",
       "   24 volume  # Coins Market cap  \n",
       "0   $ 14.79B   19.19M  $ 398.71B  \n",
       "1   $ 12.75B  122.37M  $ 191.68B  \n",
       "2    $ 1.02B    1.68B    $ 1.68B  \n",
       "3  $ 874.00M  129.40B    $ 9.39B  \n",
       "4  $ 851.09M   50.08B   $ 23.48B  "
      ]
     },
     "execution_count": 28,
     "metadata": {},
     "output_type": "execute_result"
    }
   ],
   "source": [
    "crypto_final.head()"
   ]
  }
 ],
 "metadata": {
  "kernelspec": {
   "display_name": "Python 3.9.12 ('base')",
   "language": "python",
   "name": "python3"
  },
  "language_info": {
   "codemirror_mode": {
    "name": "ipython",
    "version": 3
   },
   "file_extension": ".py",
   "mimetype": "text/x-python",
   "name": "python",
   "nbconvert_exporter": "python",
   "pygments_lexer": "ipython3",
   "version": "3.9.12"
  },
  "orig_nbformat": 4,
  "vscode": {
   "interpreter": {
    "hash": "a4df7a6600e22bae99e6e8f837be5af686fd7a404512ca9c2620376f38fe7d31"
   }
  }
 },
 "nbformat": 4,
 "nbformat_minor": 2
}
