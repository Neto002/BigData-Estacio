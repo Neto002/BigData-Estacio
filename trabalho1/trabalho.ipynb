{
 "cells": [
  {
   "cell_type": "code",
   "execution_count": 4,
   "metadata": {},
   "outputs": [
    {
     "name": "stdout",
     "output_type": "stream",
     "text": [
      "{'maria': 2, 'jose': 1, 'joão': 1}\n"
     ]
    }
   ],
   "source": [
    "from collections import Counter \n",
    "\n",
    "with open('file.txt', 'r', encoding='utf-8') as file: \n",
    "    text = file.read().split() \n",
    "\n",
    "    new_list = [] \n",
    "    for i in range(0, len(text), 2): \n",
    "        new_list.append(text[i]) \n",
    "        \n",
    "    print(Counter(new_list))"
   ]
  }
 ],
 "metadata": {
  "kernelspec": {
   "display_name": "Python 3.9.12 ('base')",
   "language": "python",
   "name": "python3"
  },
  "language_info": {
   "codemirror_mode": {
    "name": "ipython",
    "version": 3
   },
   "file_extension": ".py",
   "mimetype": "text/x-python",
   "name": "python",
   "nbconvert_exporter": "python",
   "pygments_lexer": "ipython3",
   "version": "3.9.13"
  },
  "orig_nbformat": 4,
  "vscode": {
   "interpreter": {
    "hash": "a4df7a6600e22bae99e6e8f837be5af686fd7a404512ca9c2620376f38fe7d31"
   }
  }
 },
 "nbformat": 4,
 "nbformat_minor": 2
}
