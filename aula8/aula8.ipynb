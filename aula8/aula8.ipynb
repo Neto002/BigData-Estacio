{
 "cells": [
  {
   "cell_type": "markdown",
   "metadata": {},
   "source": [
    "# Importando Biblioteca"
   ]
  },
  {
   "cell_type": "code",
   "execution_count": null,
   "metadata": {},
   "outputs": [],
   "source": [
    "import pandas as pd"
   ]
  },
  {
   "cell_type": "markdown",
   "metadata": {},
   "source": [
    "# Exemplo 1"
   ]
  },
  {
   "cell_type": "code",
   "execution_count": null,
   "metadata": {},
   "outputs": [],
   "source": [
    "notas = pd.Series([2, 7, 5, 10, 6, 20])\n",
    "notas.shape"
   ]
  },
  {
   "cell_type": "markdown",
   "metadata": {},
   "source": [
    "# Exemplo 2"
   ]
  },
  {
   "cell_type": "code",
   "execution_count": null,
   "metadata": {},
   "outputs": [],
   "source": [
    "a = [['a', '1.2', '4.2'], ['b', '70', '0.03'], ['x', '5', '0']]\n",
    "\n",
    "df = pd.DataFrame(a, columns=['one', 'two', 'three'])\n",
    "\n",
    "df[['two', 'three']] = df[['two', 'three']].astype(float)\n",
    "df.info()"
   ]
  },
  {
   "cell_type": "code",
   "execution_count": null,
   "metadata": {},
   "outputs": [],
   "source": [
    "df = pd.read_csv('https://raw.githubusercontent.com/Simone-Ingrid/datasets/main/base_precos.csv', sep=';')\n",
    "\n",
    "df"
   ]
  },
  {
   "cell_type": "code",
   "execution_count": null,
   "metadata": {},
   "outputs": [],
   "source": []
  },
  {
   "cell_type": "markdown",
   "metadata": {},
   "source": [
    "# Questão 1 - Leia a base de dados do seguinte endereço:\n",
    "\n",
    "'https://raw.githubusercontent.com/Simone-Ingrid/datasets/main/media_disciplina.csv'\n",
    "\n",
    "e calcule a média das Médias Finais da turma. Usar a função mean() na coluna de Médias."
   ]
  },
  {
   "cell_type": "code",
   "execution_count": 1,
   "metadata": {},
   "outputs": [],
   "source": [
    "import pandas as pd"
   ]
  },
  {
   "cell_type": "markdown",
   "metadata": {},
   "source": [
    "# Resolvendo sem o método mean()"
   ]
  },
  {
   "cell_type": "code",
   "execution_count": 2,
   "metadata": {},
   "outputs": [
    {
     "name": "stdout",
     "output_type": "stream",
     "text": [
      "A média das Médias Finais é: 3.30\n"
     ]
    }
   ],
   "source": [
    "table = pd.read_csv('https://raw.githubusercontent.com/Simone-Ingrid/datasets/main/media_disciplina.csv', encoding='unicode_escape', sep=';')\n",
    "\n",
    "average = 0\n",
    "\n",
    "for value in table['MÉDIA FINAL']:\n",
    "    if (value.find(',')):\n",
    "        value = value.replace(',', '.')\n",
    "    \n",
    "    average += float(value)\n",
    "\n",
    "average /= len(table['MÉDIA FINAL'])\n",
    "\n",
    "print(f'A média das Médias Finais é: {average:.2f}')"
   ]
  },
  {
   "cell_type": "markdown",
   "metadata": {},
   "source": [
    "# Resolvendo com o método mean()"
   ]
  },
  {
   "cell_type": "markdown",
   "metadata": {},
   "source": [
    "## Função para transformar os valores da coluna da tabela em float"
   ]
  },
  {
   "cell_type": "code",
   "execution_count": 3,
   "metadata": {},
   "outputs": [],
   "source": [
    "def convert_column_float(table, column):\n",
    "    for i in range(len(table[column])):\n",
    "        if (table[column][i].find(',')):\n",
    "            table[column][i] = float(table[column][i].replace(',', '.'))"
   ]
  },
  {
   "cell_type": "code",
   "execution_count": 4,
   "metadata": {},
   "outputs": [
    {
     "name": "stderr",
     "output_type": "stream",
     "text": [
      "C:\\Users\\Neto\\AppData\\Local\\Temp\\ipykernel_304\\2128540732.py:4: SettingWithCopyWarning: \n",
      "A value is trying to be set on a copy of a slice from a DataFrame\n",
      "\n",
      "See the caveats in the documentation: https://pandas.pydata.org/pandas-docs/stable/user_guide/indexing.html#returning-a-view-versus-a-copy\n",
      "  table[column][i] = float(table[column][i].replace(',', '.'))\n"
     ]
    },
    {
     "name": "stdout",
     "output_type": "stream",
     "text": [
      "A média das Médias Finais é: 3.30\n"
     ]
    }
   ],
   "source": [
    "table = pd.read_csv('https://raw.githubusercontent.com/Simone-Ingrid/datasets/main/media_disciplina.csv', encoding='unicode_escape', sep=';')\n",
    "\n",
    "convert_column_float(table, 'MÉDIA FINAL')\n",
    "        \n",
    "print(f\"A média das Médias Finais é: {table['MÉDIA FINAL'].mean(axis=0):.2f}\")"
   ]
  },
  {
   "cell_type": "markdown",
   "metadata": {},
   "source": [
    "# Desafio 3 - Seja o Dataframe do exemplo da aula de hoje.\n",
    "Considerando que o Python é Case sensitive, os dados únicos de uma\n",
    "coluna devem ser consertados, exemplo 'brinquedo' é a mesma coisa\n",
    "que 'brinqueDo'. No desafio, deve se consertar essas strings da\n",
    "coluna 'setor'."
   ]
  },
  {
   "cell_type": "code",
   "execution_count": 6,
   "metadata": {},
   "outputs": [
    {
     "data": {
      "text/html": [
       "<div>\n",
       "<style scoped>\n",
       "    .dataframe tbody tr th:only-of-type {\n",
       "        vertical-align: middle;\n",
       "    }\n",
       "\n",
       "    .dataframe tbody tr th {\n",
       "        vertical-align: top;\n",
       "    }\n",
       "\n",
       "    .dataframe thead th {\n",
       "        text-align: right;\n",
       "    }\n",
       "</style>\n",
       "<table border=\"1\" class=\"dataframe\">\n",
       "  <thead>\n",
       "    <tr style=\"text-align: right;\">\n",
       "      <th></th>\n",
       "      <th>id</th>\n",
       "      <th>data_aq</th>\n",
       "      <th>produto</th>\n",
       "      <th>quantidade</th>\n",
       "      <th>valor UN</th>\n",
       "      <th>TotaL</th>\n",
       "      <th>setor</th>\n",
       "    </tr>\n",
       "  </thead>\n",
       "  <tbody>\n",
       "    <tr>\n",
       "      <th>0</th>\n",
       "      <td>0</td>\n",
       "      <td>01/01/2019</td>\n",
       "      <td>toalha</td>\n",
       "      <td>6</td>\n",
       "      <td>R$ 35,00</td>\n",
       "      <td>R$ 210,00</td>\n",
       "      <td>mesa_banho</td>\n",
       "    </tr>\n",
       "    <tr>\n",
       "      <th>1</th>\n",
       "      <td>1</td>\n",
       "      <td>02/01/2019</td>\n",
       "      <td>toalha</td>\n",
       "      <td>6</td>\n",
       "      <td>R$ 35,00</td>\n",
       "      <td>R$ 210,00</td>\n",
       "      <td>--</td>\n",
       "    </tr>\n",
       "    <tr>\n",
       "      <th>2</th>\n",
       "      <td>2</td>\n",
       "      <td>03/01/2019</td>\n",
       "      <td>toalha</td>\n",
       "      <td>2</td>\n",
       "      <td>R$ 35,00</td>\n",
       "      <td>R$ 70,00</td>\n",
       "      <td>mesa_banho</td>\n",
       "    </tr>\n",
       "    <tr>\n",
       "      <th>3</th>\n",
       "      <td>3</td>\n",
       "      <td>01/02/2019</td>\n",
       "      <td>toalha</td>\n",
       "      <td>5</td>\n",
       "      <td>R$ 35,00</td>\n",
       "      <td>R$ 175,00</td>\n",
       "      <td>nada</td>\n",
       "    </tr>\n",
       "    <tr>\n",
       "      <th>4</th>\n",
       "      <td>4</td>\n",
       "      <td>02/02/2019</td>\n",
       "      <td>toalha</td>\n",
       "      <td>9</td>\n",
       "      <td>R$ 35,00</td>\n",
       "      <td>R$ 315,00</td>\n",
       "      <td>mesa_banho</td>\n",
       "    </tr>\n",
       "    <tr>\n",
       "      <th>...</th>\n",
       "      <td>...</td>\n",
       "      <td>...</td>\n",
       "      <td>...</td>\n",
       "      <td>...</td>\n",
       "      <td>...</td>\n",
       "      <td>...</td>\n",
       "      <td>...</td>\n",
       "    </tr>\n",
       "    <tr>\n",
       "      <th>544</th>\n",
       "      <td>544</td>\n",
       "      <td>31/07/2019</td>\n",
       "      <td>quebra_cabeca</td>\n",
       "      <td>9</td>\n",
       "      <td>R$ 19,99</td>\n",
       "      <td>R$ 179,91</td>\n",
       "      <td>brinquedos</td>\n",
       "    </tr>\n",
       "    <tr>\n",
       "      <th>545</th>\n",
       "      <td>545</td>\n",
       "      <td>01/08/2019</td>\n",
       "      <td>quebra_cabeca</td>\n",
       "      <td>3</td>\n",
       "      <td>R$ 19,99</td>\n",
       "      <td>R$ 59,97</td>\n",
       "      <td>brinquedos</td>\n",
       "    </tr>\n",
       "    <tr>\n",
       "      <th>546</th>\n",
       "      <td>546</td>\n",
       "      <td>30/07/2019</td>\n",
       "      <td>quebra_cabeca</td>\n",
       "      <td>4</td>\n",
       "      <td>R$ 19,99</td>\n",
       "      <td>R$ 79,96</td>\n",
       "      <td>brinquedos</td>\n",
       "    </tr>\n",
       "    <tr>\n",
       "      <th>547</th>\n",
       "      <td>547</td>\n",
       "      <td>31/07/2019</td>\n",
       "      <td>quebra_cabeca</td>\n",
       "      <td>1</td>\n",
       "      <td>R$ 19,99</td>\n",
       "      <td>R$ 19,99</td>\n",
       "      <td>brinquedos</td>\n",
       "    </tr>\n",
       "    <tr>\n",
       "      <th>548</th>\n",
       "      <td>548</td>\n",
       "      <td>2019-03-03 00:00:00</td>\n",
       "      <td>quebra_cabeca</td>\n",
       "      <td>8</td>\n",
       "      <td>R$ 19,99</td>\n",
       "      <td>R$ 159,92</td>\n",
       "      <td>brinquedos</td>\n",
       "    </tr>\n",
       "  </tbody>\n",
       "</table>\n",
       "<p>549 rows × 7 columns</p>\n",
       "</div>"
      ],
      "text/plain": [
       "      id              data_aq        produto  quantidade  valor UN      TotaL  \\\n",
       "0      0           01/01/2019         toalha           6  R$ 35,00  R$ 210,00   \n",
       "1      1           02/01/2019         toalha           6  R$ 35,00  R$ 210,00   \n",
       "2      2           03/01/2019         toalha           2  R$ 35,00   R$ 70,00   \n",
       "3      3           01/02/2019         toalha           5  R$ 35,00  R$ 175,00   \n",
       "4      4           02/02/2019         toalha           9  R$ 35,00  R$ 315,00   \n",
       "..   ...                  ...            ...         ...       ...        ...   \n",
       "544  544           31/07/2019  quebra_cabeca           9  R$ 19,99  R$ 179,91   \n",
       "545  545           01/08/2019  quebra_cabeca           3  R$ 19,99   R$ 59,97   \n",
       "546  546           30/07/2019  quebra_cabeca           4  R$ 19,99   R$ 79,96   \n",
       "547  547           31/07/2019  quebra_cabeca           1  R$ 19,99   R$ 19,99   \n",
       "548  548  2019-03-03 00:00:00  quebra_cabeca           8  R$ 19,99  R$ 159,92   \n",
       "\n",
       "          setor  \n",
       "0    mesa_banho  \n",
       "1            --  \n",
       "2    mesa_banho  \n",
       "3          nada  \n",
       "4    mesa_banho  \n",
       "..          ...  \n",
       "544  brinquedos  \n",
       "545  brinquedos  \n",
       "546  brinquedos  \n",
       "547  brinquedos  \n",
       "548  brinquedos  \n",
       "\n",
       "[549 rows x 7 columns]"
      ]
     },
     "execution_count": 6,
     "metadata": {},
     "output_type": "execute_result"
    }
   ],
   "source": [
    "df = pd.read_csv('https://raw.githubusercontent.com/Simone-Ingrid/datasets/main/base_precos.csv', sep=';')\n",
    "\n",
    "# Transformando todas as strings da coluna em letras minúsculas\n",
    "df['setor'] = df['setor'].str.lower()\n",
    "\n",
    "df"
   ]
  }
 ],
 "metadata": {
  "kernelspec": {
   "display_name": "Python 3.9.12 ('base')",
   "language": "python",
   "name": "python3"
  },
  "language_info": {
   "codemirror_mode": {
    "name": "ipython",
    "version": 3
   },
   "file_extension": ".py",
   "mimetype": "text/x-python",
   "name": "python",
   "nbconvert_exporter": "python",
   "pygments_lexer": "ipython3",
   "version": "3.9.12"
  },
  "orig_nbformat": 4,
  "vscode": {
   "interpreter": {
    "hash": "a4df7a6600e22bae99e6e8f837be5af686fd7a404512ca9c2620376f38fe7d31"
   }
  }
 },
 "nbformat": 4,
 "nbformat_minor": 2
}
